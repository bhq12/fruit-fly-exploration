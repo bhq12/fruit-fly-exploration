{
 "cells": [
  {
   "cell_type": "code",
   "execution_count": 23,
   "metadata": {
    "colab": {
     "base_uri": "https://localhost:8080/"
    },
    "id": "PW-AQDwnC9TT",
    "outputId": "fd62b44b-69ec-4ea2-da09-1bef21f11b1e"
   },
   "outputs": [
    {
     "name": "stdout",
     "output_type": "stream",
     "text": [
      "The tensorboard extension is already loaded. To reload it, use:\n",
      "  %reload_ext tensorboard\n",
      "2.15.1\n"
     ]
    }
   ],
   "source": [
    "import tensorflow as tf\n",
    "%load_ext tensorboard\n",
    "from tensorflow.keras.layers import Dense, Flatten\n",
    "from tensorflow.keras import Model\n",
    "import datetime\n",
    "import numpy as np\n",
    "import seaborn as sns\n",
    "import pandas as pd\n",
    "from sklearn.utils import shuffle\n",
    "from sklearn.model_selection import train_test_split\n",
    "import matplotlib.pyplot as plt\n",
    "import statistics\n",
    "!rm -rf ./logs/ \n",
    "print(tf.__version__) #Double check the colab has the instance of tensorflow we want"
   ]
  },
  {
   "cell_type": "markdown",
   "metadata": {},
   "source": [
    "# Import the Dataset"
   ]
  },
  {
   "cell_type": "code",
   "execution_count": 3,
   "metadata": {
    "id": "RKKn1Vq9PG19"
   },
   "outputs": [],
   "source": [
    "lab_data = pd.read_csv('../data/83_Loeschcke_et_al_2000_Thorax_&_wing_traits_lab pops.csv')\n",
    "\n",
    "# Data cleaning\n",
    "lab_data = lab_data[lab_data['Thorax_length'] != '.']"
   ]
  },
  {
   "cell_type": "code",
   "execution_count": 4,
   "metadata": {},
   "outputs": [],
   "source": [
    "lab_data['Thorax_length'] = pd.to_numeric(lab_data['Thorax_length'])\n",
    "lab_data['wing_loading'] = pd.to_numeric(lab_data['wing_loading'])"
   ]
  },
  {
   "cell_type": "code",
   "execution_count": 5,
   "metadata": {},
   "outputs": [
    {
     "name": "stdout",
     "output_type": "stream",
     "text": [
      "<class 'pandas.core.frame.DataFrame'>\n",
      "Index: 1730 entries, 0 to 1730\n",
      "Data columns (total 20 columns):\n",
      " #   Column         Non-Null Count  Dtype  \n",
      "---  ------         --------------  -----  \n",
      " 0   Species        1730 non-null   object \n",
      " 1   Population     1730 non-null   object \n",
      " 2   Latitude       1730 non-null   float64\n",
      " 3   Longitude      1730 non-null   float64\n",
      " 4   Year_start     1730 non-null   int64  \n",
      " 5   Year_end       1730 non-null   int64  \n",
      " 6   Temperature    1730 non-null   int64  \n",
      " 7   Vial           1730 non-null   int64  \n",
      " 8   Replicate      1730 non-null   int64  \n",
      " 9   Sex            1730 non-null   object \n",
      " 10  Thorax_length  1730 non-null   float64\n",
      " 11  l2             1730 non-null   float64\n",
      " 12  l3p            1730 non-null   float64\n",
      " 13  l3d            1730 non-null   float64\n",
      " 14  lpd            1730 non-null   float64\n",
      " 15  l3             1730 non-null   float64\n",
      " 16  w1             1730 non-null   float64\n",
      " 17  w2             1730 non-null   float64\n",
      " 18  w3             1730 non-null   float64\n",
      " 19  wing_loading   1730 non-null   float64\n",
      "dtypes: float64(12), int64(5), object(3)\n",
      "memory usage: 283.8+ KB\n"
     ]
    }
   ],
   "source": [
    "lab_data.info()"
   ]
  },
  {
   "cell_type": "markdown",
   "metadata": {},
   "source": [
    "# SPECIES"
   ]
  },
  {
   "cell_type": "code",
   "execution_count": 15,
   "metadata": {},
   "outputs": [
    {
     "name": "stdout",
     "output_type": "stream",
     "text": [
      "Wing Length (L3)\n",
      "Mean\n",
      "Species\n",
      "D._aldrichi    2.009466\n",
      "D._buzzatii    2.069377\n",
      "Name: l3, dtype: float64\n",
      "Std. Dev\n",
      "Species\n",
      "D._aldrichi    0.193720\n",
      "D._buzzatii    0.157329\n",
      "Name: l3, dtype: float64\n"
     ]
    }
   ],
   "source": [
    "print('Wing Length (L3)')\n",
    "print('Mean')\n",
    "print(lab_data.groupby(['Species'])['l3'].mean())\n",
    "print('Std. Dev')\n",
    "print(lab_data.groupby(['Species'])['l3'].std())"
   ]
  },
  {
   "cell_type": "code",
   "execution_count": 14,
   "metadata": {},
   "outputs": [
    {
     "name": "stdout",
     "output_type": "stream",
     "text": [
      "Wing Width (W3)\n",
      "Mean\n",
      "Species\n",
      "D._aldrichi    1.030952\n",
      "D._buzzatii    1.045218\n",
      "Name: w3, dtype: float64\n",
      "Std. Dev\n",
      "Species\n",
      "D._aldrichi    0.099369\n",
      "D._buzzatii    0.078934\n",
      "Name: w3, dtype: float64\n"
     ]
    }
   ],
   "source": [
    "print('Wing Width (W3)')\n",
    "print('Mean')\n",
    "print(lab_data.groupby(['Species'])['w3'].mean())\n",
    "print('Std. Dev')\n",
    "print(lab_data.groupby(['Species'])['w3'].std())"
   ]
  },
  {
   "cell_type": "code",
   "execution_count": 13,
   "metadata": {},
   "outputs": [
    {
     "name": "stdout",
     "output_type": "stream",
     "text": [
      "Thorax Length:\n",
      "Mean\n",
      "Species\n",
      "D._aldrichi    1.115614\n",
      "D._buzzatii    1.136756\n",
      "Name: Thorax_length, dtype: float64\n",
      "Std. Dev\n",
      "Species\n",
      "D._aldrichi    0.063545\n",
      "D._buzzatii    0.065885\n",
      "Name: Thorax_length, dtype: float64\n"
     ]
    }
   ],
   "source": [
    "print('Thorax Length:')\n",
    "print('Mean')\n",
    "print(lab_data.groupby(['Species'])['Thorax_length'].mean())\n",
    "print('Std. Dev')\n",
    "print(lab_data.groupby(['Species'])['Thorax_length'].std())"
   ]
  },
  {
   "cell_type": "code",
   "execution_count": 30,
   "metadata": {},
   "outputs": [
    {
     "data": {
      "text/plain": [
       "<Axes: xlabel='Population', ylabel='l3'>"
      ]
     },
     "execution_count": 30,
     "metadata": {},
     "output_type": "execute_result"
    },
    {
     "data": {
      "image/png": "[encoded data removed]",
      "text/plain": [
       "<Figure size 640x480 with 1 Axes>"
      ]
     },
     "metadata": {},
     "output_type": "display_data"
    }
   ],
   "source": [
    "sns.boxplot(x='Population', y=lab_data['l3'], data=lab_data)"
   ]
  },
  {
   "cell_type": "code",
   "execution_count": 29,
   "metadata": {},
   "outputs": [
    {
     "data": {
      "text/plain": [
       "<Axes: xlabel='Species', ylabel='w3'>"
      ]
     },
     "execution_count": 29,
     "metadata": {},
     "output_type": "execute_result"
    },
    {
     "data": {
      "image/png": "[encoded data removed]",
      "text/plain": [
       "<Figure size 640x480 with 1 Axes>"
      ]
     },
     "metadata": {},
     "output_type": "display_data"
    }
   ],
   "source": [
    "sns.boxplot(x='Species', y=lab_data['w3'], data=lab_data)"
   ]
  },
  {
   "cell_type": "code",
   "execution_count": 28,
   "metadata": {},
   "outputs": [
    {
     "data": {
      "text/plain": [
       "<Axes: xlabel='Species', ylabel='Thorax_length'>"
      ]
     },
     "execution_count": 28,
     "metadata": {},
     "output_type": "execute_result"
    },
    {
     "data": {
      "image/png": "[encoded data removed]",
      "text/plain": [
       "<Figure size 640x480 with 1 Axes>"
      ]
     },
     "metadata": {},
     "output_type": "display_data"
    }
   ],
   "source": [
    "sns.boxplot(x='Species', y=lab_data['Thorax_length'], data=lab_data)"
   ]
  },
  {
   "cell_type": "markdown",
   "metadata": {},
   "source": [
    "# Sex"
   ]
  },
  {
   "cell_type": "code",
   "execution_count": 16,
   "metadata": {},
   "outputs": [
    {
     "name": "stdout",
     "output_type": "stream",
     "text": [
      "Wing Length (L3)\n",
      "Mean\n",
      "Sex\n",
      "female    2.116971\n",
      "male      1.964904\n",
      "Name: l3, dtype: float64\n",
      "Std. Dev\n",
      "Sex\n",
      "female    0.183027\n",
      "male      0.136882\n",
      "Name: l3, dtype: float64\n"
     ]
    }
   ],
   "source": [
    "print('Wing Length (L3)')\n",
    "print('Mean')\n",
    "print(lab_data.groupby(['Sex'])['l3'].mean())\n",
    "print('Std. Dev')\n",
    "print(lab_data.groupby(['Sex'])['l3'].std())"
   ]
  },
  {
   "cell_type": "code",
   "execution_count": 17,
   "metadata": {},
   "outputs": [
    {
     "name": "stdout",
     "output_type": "stream",
     "text": [
      "Wing Width (W3)\n",
      "Mean\n",
      "Sex\n",
      "female    1.070476\n",
      "male      1.006640\n",
      "Name: w3, dtype: float64\n",
      "Std. Dev\n",
      "Sex\n",
      "female    0.096003\n",
      "male      0.069827\n",
      "Name: w3, dtype: float64\n"
     ]
    }
   ],
   "source": [
    "print('Wing Width (W3)')\n",
    "print('Mean')\n",
    "print(lab_data.groupby(['Sex'])['w3'].mean())\n",
    "print('Std. Dev')\n",
    "print(lab_data.groupby(['Sex'])['w3'].std())"
   ]
  },
  {
   "cell_type": "code",
   "execution_count": 18,
   "metadata": {},
   "outputs": [
    {
     "name": "stdout",
     "output_type": "stream",
     "text": [
      "Thorax Length:\n",
      "Mean\n",
      "Sex\n",
      "female    1.168465\n",
      "male      1.085214\n",
      "Name: Thorax_length, dtype: float64\n",
      "Std. Dev\n",
      "Sex\n",
      "female    0.053671\n",
      "male      0.047610\n",
      "Name: Thorax_length, dtype: float64\n"
     ]
    }
   ],
   "source": [
    "print('Thorax Length:')\n",
    "print('Mean')\n",
    "print(lab_data.groupby(['Sex'])['Thorax_length'].mean())\n",
    "print('Std. Dev')\n",
    "print(lab_data.groupby(['Sex'])['Thorax_length'].std())"
   ]
  },
  {
   "cell_type": "code",
   "execution_count": 25,
   "metadata": {},
   "outputs": [
    {
     "data": {
      "text/plain": [
       "<Axes: xlabel='Sex', ylabel='Thorax_length'>"
      ]
     },
     "execution_count": 25,
     "metadata": {},
     "output_type": "execute_result"
    },
    {
     "data": {
      "image/png": "[encoded data removed]",
      "text/plain": [
       "<Figure size 640x480 with 1 Axes>"
      ]
     },
     "metadata": {},
     "output_type": "display_data"
    }
   ],
   "source": [
    "sns.boxplot(x='Sex', y=lab_data['Thorax_length'], data=lab_data)"
   ]
  },
  {
   "cell_type": "markdown",
   "metadata": {},
   "source": [
    "# Population"
   ]
  },
  {
   "cell_type": "code",
   "execution_count": 19,
   "metadata": {},
   "outputs": [
    {
     "name": "stdout",
     "output_type": "stream",
     "text": [
      "Wing Length (L3)\n",
      "Mean\n",
      "Population\n",
      "Binjour          2.045850\n",
      "Gogango_Creek    2.028960\n",
      "Grandchester     2.043688\n",
      "Oxford_Downs     2.039575\n",
      "Wahruna          2.043806\n",
      "Name: l3, dtype: float64\n",
      "Std. Dev\n",
      "Population\n",
      "Binjour          0.195162\n",
      "Gogango_Creek    0.173376\n",
      "Grandchester     0.165062\n",
      "Oxford_Downs     0.156167\n",
      "Wahruna          0.198986\n",
      "Name: l3, dtype: float64\n"
     ]
    }
   ],
   "source": [
    "print('Wing Length (L3)')\n",
    "print('Mean')\n",
    "print(lab_data.groupby(['Population'])['l3'].mean())\n",
    "print('Std. Dev')\n",
    "print(lab_data.groupby(['Population'])['l3'].std())"
   ]
  },
  {
   "cell_type": "code",
   "execution_count": 20,
   "metadata": {},
   "outputs": [
    {
     "name": "stdout",
     "output_type": "stream",
     "text": [
      "Wing Width (W3)\n",
      "Mean\n",
      "Population\n",
      "Binjour          1.029323\n",
      "Gogango_Creek    1.033640\n",
      "Grandchester     1.046158\n",
      "Oxford_Downs     1.046132\n",
      "Wahruna          1.036254\n",
      "Name: w3, dtype: float64\n",
      "Std. Dev\n",
      "Population\n",
      "Binjour          0.096372\n",
      "Gogango_Creek    0.085721\n",
      "Grandchester     0.081626\n",
      "Oxford_Downs     0.080932\n",
      "Wahruna          0.101278\n",
      "Name: w3, dtype: float64\n"
     ]
    }
   ],
   "source": [
    "print('Wing Width (W3)')\n",
    "print('Mean')\n",
    "print(lab_data.groupby(['Population'])['w3'].mean())\n",
    "print('Std. Dev')\n",
    "print(lab_data.groupby(['Population'])['w3'].std())"
   ]
  },
  {
   "cell_type": "code",
   "execution_count": 21,
   "metadata": {},
   "outputs": [
    {
     "name": "stdout",
     "output_type": "stream",
     "text": [
      "Thorax Length:\n",
      "Mean\n",
      "Population\n",
      "Binjour          1.124818\n",
      "Gogango_Creek    1.120669\n",
      "Grandchester     1.129014\n",
      "Oxford_Downs     1.132443\n",
      "Wahruna          1.125728\n",
      "Name: Thorax_length, dtype: float64\n",
      "Std. Dev\n",
      "Population\n",
      "Binjour          0.065749\n",
      "Gogango_Creek    0.067855\n",
      "Grandchester     0.065537\n",
      "Oxford_Downs     0.064142\n",
      "Wahruna          0.064355\n",
      "Name: Thorax_length, dtype: float64\n"
     ]
    }
   ],
   "source": [
    "print('Thorax Length:')\n",
    "print('Mean')\n",
    "print(lab_data.groupby(['Population'])['Thorax_length'].mean())\n",
    "print('Std. Dev')\n",
    "print(lab_data.groupby(['Population'])['Thorax_length'].std())"
   ]
  },
  {
   "cell_type": "code",
   "execution_count": 24,
   "metadata": {},
   "outputs": [
    {
     "data": {
      "text/plain": [
       "<Axes: xlabel='Population', ylabel='Thorax_length'>"
      ]
     },
     "execution_count": 24,
     "metadata": {},
     "output_type": "execute_result"
    },
    {
     "data": {
      "image/png": "[encoded data removed]",
      "text/plain": [
       "<Figure size 640x480 with 1 Axes>"
      ]
     },
     "metadata": {},
     "output_type": "display_data"
    }
   ],
   "source": [
    "sns.boxplot(x='Population', y=lab_data['Thorax_length'], data=lab_data)"
   ]
  }
 ],
 "metadata": {
  "colab": {
   "provenance": [],
   "toc_visible": true
  },
  "kernelspec": {
   "display_name": "Python 3 (ipykernel)",
   "language": "python",
   "name": "python3"
  },
  "language_info": {
   "codemirror_mode": {
    "name": "ipython",
    "version": 3
   },
   "file_extension": ".py",
   "mimetype": "text/x-python",
   "name": "python",
   "nbconvert_exporter": "python",
   "pygments_lexer": "ipython3",
   "version": "3.11.9"
  }
 },
 "nbformat": 4,
 "nbformat_minor": 4
}
