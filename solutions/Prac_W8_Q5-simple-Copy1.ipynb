{
 "cells": [
  {
   "cell_type": "markdown",
   "metadata": {
    "id": "3RtpIC9fDJAM"
   },
   "source": [
    "# Prac W8\n",
    "## MLPS and Convolutional Neural Networks (CNNs) using Tensorflow 2.x\n",
    "\n",
    "A lot of this will be borrowed from the Tensorflow introduction found [here](https://www.tensorflow.org/tutorials/)\n",
    "\n",
    "You've already covered multilayer perceptrons in last weeks prac. CNNs are possibly part of the reason you're interested in this course due to their strengths in image classification.\n",
    "\n",
    "[This link](https://cs231n.github.io/convolutional-networks/) provides a good overview of CNNs and would be useful to read. "
   ]
  },
  {
   "cell_type": "markdown",
   "metadata": {
    "id": "MyAHHQ7dEmH7"
   },
   "source": [
    "Some useful imports "
   ]
  },
  {
   "cell_type": "code",
   "execution_count": 1,
   "metadata": {
    "colab": {
     "base_uri": "https://localhost:8080/"
    },
    "id": "PW-AQDwnC9TT",
    "outputId": "fd62b44b-69ec-4ea2-da09-1bef21f11b1e"
   },
   "outputs": [
    {
     "name": "stdout",
     "output_type": "stream",
     "text": [
      "2.16.1\n"
     ]
    }
   ],
   "source": [
    "import tensorflow as tf\n",
    "%load_ext tensorboard\n",
    "from tensorflow.keras.layers import Dense, Flatten, Conv2D, Conv3D, MaxPooling2D\n",
    "from tensorflow.keras import Model\n",
    "import datetime\n",
    "import numpy as np\n",
    "!rm -rf ./logs/ \n",
    "print(tf.__version__) #Double check the colab has the instance of tensorflow we want"
   ]
  },
  {
   "cell_type": "markdown",
   "metadata": {},
   "source": [
    "# Import the CIFAR10 Dataset"
   ]
  },
  {
   "cell_type": "code",
   "execution_count": 2,
   "metadata": {
    "id": "RKKn1Vq9PG19"
   },
   "outputs": [],
   "source": [
    "# Load the CIFAR10 dataset\n",
    "cifar10 = tf.keras.datasets.cifar10\n",
    "\n",
    "(cifar_x_train, cifar_y_train), (cifar_x_test, cifar_y_test) = cifar10.load_data()\n",
    "\n",
    "cifar_x_train = cifar_x_train / 255\n",
    "cifar_x_test = cifar_x_test / 255\n"
   ]
  },
  {
   "cell_type": "markdown",
   "metadata": {},
   "source": [
    "### Explore the dataset shape\n",
    "### Create tensor batches"
   ]
  },
  {
   "cell_type": "code",
   "execution_count": 3,
   "metadata": {},
   "outputs": [
    {
     "name": "stdout",
     "output_type": "stream",
     "text": [
      "Image count:\n",
      "50000\n",
      "Pixels dimension 1:\n",
      "32\n",
      "Pixels dimension 2:\n",
      "32\n",
      "RGB Dimensions:\n",
      "3\n"
     ]
    }
   ],
   "source": [
    "print(\"Image count:\")\n",
    "print(len(cifar_x_train))\n",
    "print(\"Pixels dimension 1:\")\n",
    "print(len(cifar_x_train[0]))\n",
    "print(\"Pixels dimension 2:\")\n",
    "print(len(cifar_x_train[0][0]))\n",
    "print(\"RGB Dimensions:\")\n",
    "print(len(cifar_x_train[0][0][0]))\n",
    "\n",
    "\n",
    "#cifar_x_train = cifar_x_train.astype(np.float32)\n",
    "#cifar_x_test = cifar_x_test.astype(np.float32)\n",
    "\n",
    "cifar_train_ds = tf.data.Dataset.from_tensor_slices(\n",
    "    (cifar_x_train, cifar_y_train)\n",
    ").shuffle(10000).batch(32)\n",
    "\n",
    "cifar_test_ds = tf.data.Dataset.from_tensor_slices(\n",
    "    (cifar_x_test, cifar_y_test)\n",
    ").batch(32)\n"
   ]
  },
  {
   "cell_type": "code",
   "execution_count": 4,
   "metadata": {},
   "outputs": [],
   "source": [
    "class ModelTester:\n",
    "  def __init__(\n",
    "      self,\n",
    "      model_name,\n",
    "      model, \n",
    "      optimiser = None,\n",
    "      loss_object=tf.keras.losses.SparseCategoricalCrossentropy(from_logits=False)\n",
    "  ):\n",
    "    self._model = model\n",
    "    self.model_name = model_name\n",
    "    if optimiser is None:\n",
    "        self._optimiser = tf.keras.optimizers.Adam() \n",
    "    self._loss_object = loss_object\n",
    "    self._train_loss = tf.keras.metrics.Mean(name='train_loss')\n",
    "    self._train_accuracy = tf.keras.metrics.SparseCategoricalAccuracy(name='train_accuracy')\n",
    "\n",
    "    self._test_loss = tf.keras.metrics.Mean(name='test_loss')\n",
    "    self._test_accuracy = tf.keras.metrics.SparseCategoricalAccuracy(name='test_accuracy')\n",
    "  \n",
    "  @tf.function\n",
    "  def train_step(self, images, labels):\n",
    "    with tf.GradientTape() as tape:\n",
    "      # training=True is only needed if there are layers with different\n",
    "      # behavior during training versus inference (e.g. Dropout).\n",
    "      predictions = self._model(images, training=True)\n",
    "      loss = self._loss_object(labels, predictions)\n",
    "    gradients = tape.gradient(loss, self._model.trainable_variables)\n",
    "    self._optimiser.apply_gradients(zip(gradients, self._model.trainable_variables))\n",
    "\n",
    "    self._train_loss(loss)\n",
    "    self._train_accuracy(labels, predictions) \n",
    "\n",
    "  @tf.function\n",
    "  def test_step(self, images, labels):\n",
    "    # training=False is only needed if there are layers with different\n",
    "    # behavior during training versus inference (e.g. Dropout).\n",
    "    predictions = self._model(images, training=False)\n",
    "    t_loss = self._loss_object(labels, predictions)\n",
    "\n",
    "    self._test_loss(t_loss)\n",
    "    self._test_accuracy(labels, predictions)\n",
    "\n",
    "  def train(self, train_ds, test_ds, epochs):\n",
    "    for epoch in range(epochs):\n",
    "      # Reset the metrics at the start of the next epoch\n",
    "      self._train_loss.reset_state()\n",
    "      self._train_accuracy.reset_state()\n",
    "      self._test_loss.reset_state()\n",
    "      self._test_accuracy.reset_state()\n",
    "\n",
    "      for images, labels in train_ds:\n",
    "        self.train_step(images, labels)\n",
    "\n",
    "      for test_images, test_labels in test_ds:\n",
    "        self.test_step(test_images, test_labels)\n",
    "\n",
    "      template = 'Model: {}, Epoch: {}, Loss: {}, Accuracy: {}, Test Loss: {}, Test Accuracy: {}'\n",
    "      print(template.format(\n",
    "        self.model_name,\n",
    "        epoch + 1,\n",
    "        self._train_loss.result(),\n",
    "        self._train_accuracy.result() * 100,\n",
    "        self._test_loss.result(),\n",
    "        self._test_accuracy.result() * 100)\n",
    "      )"
   ]
  },
  {
   "cell_type": "code",
   "execution_count": 5,
   "metadata": {
    "id": "GGTYF2lJPBfE"
   },
   "outputs": [],
   "source": [
    "model =  tf.keras.models.Sequential([\n",
    "            Conv2D(32,(3,3)), \n",
    "            Flatten(),\n",
    "            Dense(512, activation='relu'),\n",
    "            Dense(10, activation='softmax')\n",
    "          ])\n",
    "\n",
    "model.compile(\n",
    "    optimizer='adam',\n",
    "    loss=tf.keras.losses.SparseCategoricalCrossentropy(from_logits=True),\n",
    "    metrics=['accuracy']\n",
    ")\n",
    "\n",
    "log_dir = \"logs/fit/\" + datetime.datetime.now().strftime(\"%Y%m%d-%H%M%S\") #datetime storage\n",
    "tensorboard_callback = tf.keras.callbacks.TensorBoard(log_dir=log_dir, histogram_freq=1) #TB callbacks\n",
    "\n",
    "#model.fit(cifar_train_ds, epochs=5, validation_data=cifar_test_ds, callbacks=[tensorboard_callback])"
   ]
  },
  {
   "cell_type": "code",
   "execution_count": 6,
   "metadata": {},
   "outputs": [
    {
     "name": "stderr",
     "output_type": "stream",
     "text": [
      "2024-04-24 17:16:26.214823: W tensorflow/core/framework/local_rendezvous.cc:404] Local rendezvous is aborting with status: OUT_OF_RANGE: End of sequence\n",
      "2024-04-24 17:16:28.876813: W tensorflow/core/framework/local_rendezvous.cc:404] Local rendezvous is aborting with status: OUT_OF_RANGE: End of sequence\n"
     ]
    },
    {
     "name": "stdout",
     "output_type": "stream",
     "text": [
      "Model: Single Convolution layer, Epoch: 1, Loss: 1.7240190505981445, Accuracy: 41.02799987792969, Test Loss: 1.5022093057632446, Test Accuracy: 46.5099983215332\n"
     ]
    },
    {
     "name": "stderr",
     "output_type": "stream",
     "text": [
      "2024-04-24 17:17:27.004255: W tensorflow/core/framework/local_rendezvous.cc:404] Local rendezvous is aborting with status: OUT_OF_RANGE: End of sequence\n",
      "2024-04-24 17:17:29.524253: W tensorflow/core/framework/local_rendezvous.cc:404] Local rendezvous is aborting with status: OUT_OF_RANGE: End of sequence\n"
     ]
    },
    {
     "name": "stdout",
     "output_type": "stream",
     "text": [
      "Model: Single Convolution layer, Epoch: 2, Loss: 1.4407844543457031, Accuracy: 49.571998596191406, Test Loss: 1.446818232536316, Test Accuracy: 48.98999786376953\n"
     ]
    },
    {
     "name": "stderr",
     "output_type": "stream",
     "text": [
      "2024-04-24 17:18:27.120727: W tensorflow/core/framework/local_rendezvous.cc:404] Local rendezvous is aborting with status: OUT_OF_RANGE: End of sequence\n",
      "2024-04-24 17:18:29.650084: W tensorflow/core/framework/local_rendezvous.cc:404] Local rendezvous is aborting with status: OUT_OF_RANGE: End of sequence\n"
     ]
    },
    {
     "name": "stdout",
     "output_type": "stream",
     "text": [
      "Model: Single Convolution layer, Epoch: 3, Loss: 1.301168441772461, Accuracy: 54.27000045776367, Test Loss: 1.6364270448684692, Test Accuracy: 43.709999084472656\n"
     ]
    },
    {
     "name": "stderr",
     "output_type": "stream",
     "text": [
      "2024-04-24 17:19:29.010187: W tensorflow/core/framework/local_rendezvous.cc:404] Local rendezvous is aborting with status: OUT_OF_RANGE: End of sequence\n",
      "2024-04-24 17:19:31.633864: W tensorflow/core/framework/local_rendezvous.cc:404] Local rendezvous is aborting with status: OUT_OF_RANGE: End of sequence\n"
     ]
    },
    {
     "name": "stdout",
     "output_type": "stream",
     "text": [
      "Model: Single Convolution layer, Epoch: 4, Loss: 1.173329472541809, Accuracy: 58.49599838256836, Test Loss: 1.494692325592041, Test Accuracy: 49.86000061035156\n"
     ]
    },
    {
     "name": "stderr",
     "output_type": "stream",
     "text": [
      "2024-04-24 17:20:30.787413: W tensorflow/core/framework/local_rendezvous.cc:404] Local rendezvous is aborting with status: OUT_OF_RANGE: End of sequence\n"
     ]
    },
    {
     "name": "stdout",
     "output_type": "stream",
     "text": [
      "Model: Single Convolution layer, Epoch: 5, Loss: 1.0471221208572388, Accuracy: 62.884002685546875, Test Loss: 1.5397394895553589, Test Accuracy: 50.19999694824219\n"
     ]
    },
    {
     "name": "stderr",
     "output_type": "stream",
     "text": [
      "2024-04-24 17:20:33.385348: W tensorflow/core/framework/local_rendezvous.cc:404] Local rendezvous is aborting with status: OUT_OF_RANGE: End of sequence\n"
     ]
    }
   ],
   "source": [
    "\n",
    "model_single_convolutional_layer =  tf.keras.models.Sequential([\n",
    "            Conv2D(32,3),\n",
    "            Flatten(),\n",
    "            Dense(512, activation='relu'),\n",
    "            Dense(10, activation='softmax')\n",
    "          ])\n",
    "\n",
    "tester_convolutional_layer = ModelTester('Single Convolution layer', model_single_convolutional_layer)\n",
    "tester_convolutional_layer.train(cifar_train_ds, cifar_test_ds, 5)\n"
   ]
  },
  {
   "cell_type": "code",
   "execution_count": 16,
   "metadata": {},
   "outputs": [
    {
     "name": "stderr",
     "output_type": "stream",
     "text": [
      "2024-04-24 14:36:48.130679: W tensorflow/core/framework/local_rendezvous.cc:404] Local rendezvous is aborting with status: OUT_OF_RANGE: End of sequence\n",
      "2024-04-24 14:36:50.675118: W tensorflow/core/framework/local_rendezvous.cc:404] Local rendezvous is aborting with status: OUT_OF_RANGE: End of sequence\n"
     ]
    },
    {
     "name": "stdout",
     "output_type": "stream",
     "text": [
      "Model: Single Convolution layer no softmax, Epoch: 1, Loss: 11.073408126831055, Accuracy: 12.22599983215332, Test Loss: 11.05459976196289, Test Accuracy: 12.850000381469727\n"
     ]
    },
    {
     "name": "stderr",
     "output_type": "stream",
     "text": [
      "2024-04-24 14:37:49.452324: W tensorflow/core/framework/local_rendezvous.cc:404] Local rendezvous is aborting with status: OUT_OF_RANGE: End of sequence\n",
      "2024-04-24 14:37:52.267073: W tensorflow/core/framework/local_rendezvous.cc:404] Local rendezvous is aborting with status: OUT_OF_RANGE: End of sequence\n"
     ]
    },
    {
     "name": "stdout",
     "output_type": "stream",
     "text": [
      "Model: Single Convolution layer no softmax, Epoch: 2, Loss: 11.056304931640625, Accuracy: 12.605998992919922, Test Loss: 11.05459976196289, Test Accuracy: 10.0\n"
     ]
    },
    {
     "name": "stderr",
     "output_type": "stream",
     "text": [
      "2024-04-24 14:38:49.940490: W tensorflow/core/framework/local_rendezvous.cc:404] Local rendezvous is aborting with status: OUT_OF_RANGE: End of sequence\n",
      "2024-04-24 14:38:52.462239: W tensorflow/core/framework/local_rendezvous.cc:404] Local rendezvous is aborting with status: OUT_OF_RANGE: End of sequence\n"
     ]
    },
    {
     "name": "stdout",
     "output_type": "stream",
     "text": [
      "Model: Single Convolution layer no softmax, Epoch: 3, Loss: 11.056632995605469, Accuracy: 10.0, Test Loss: 11.05459976196289, Test Accuracy: 10.0\n"
     ]
    },
    {
     "name": "stderr",
     "output_type": "stream",
     "text": [
      "2024-04-24 14:39:51.459090: W tensorflow/core/framework/local_rendezvous.cc:404] Local rendezvous is aborting with status: OUT_OF_RANGE: End of sequence\n",
      "2024-04-24 14:39:53.986989: W tensorflow/core/framework/local_rendezvous.cc:404] Local rendezvous is aborting with status: OUT_OF_RANGE: End of sequence\n"
     ]
    },
    {
     "name": "stdout",
     "output_type": "stream",
     "text": [
      "Model: Single Convolution layer no softmax, Epoch: 4, Loss: 11.056305885314941, Accuracy: 10.0, Test Loss: 11.05459976196289, Test Accuracy: 10.0\n"
     ]
    },
    {
     "name": "stderr",
     "output_type": "stream",
     "text": [
      "2024-04-24 14:40:54.909396: W tensorflow/core/framework/local_rendezvous.cc:404] Local rendezvous is aborting with status: OUT_OF_RANGE: End of sequence\n"
     ]
    },
    {
     "name": "stdout",
     "output_type": "stream",
     "text": [
      "Model: Single Convolution layer no softmax, Epoch: 5, Loss: 11.057280540466309, Accuracy: 10.0, Test Loss: 11.05459976196289, Test Accuracy: 10.0\n"
     ]
    },
    {
     "name": "stderr",
     "output_type": "stream",
     "text": [
      "2024-04-24 14:40:57.699545: W tensorflow/core/framework/local_rendezvous.cc:404] Local rendezvous is aborting with status: OUT_OF_RANGE: End of sequence\n"
     ]
    }
   ],
   "source": [
    "\n",
    "model_single_convolutional_layer_no_softmax =  tf.keras.models.Sequential([\n",
    "            Conv2D(32,3),\n",
    "            Flatten(),\n",
    "            Dense(512, activation='relu')\n",
    "          ])\n",
    "\n",
    "tester_convolutional_layer_no_softmax = ModelTester('Single Convolution layer no softmax', model_single_convolutional_layer_no_softmax)\n",
    "tester_convolutional_layer_no_softmax.train(cifar_train_ds, cifar_test_ds, 5)\n"
   ]
  },
  {
   "cell_type": "code",
   "execution_count": 8,
   "metadata": {},
   "outputs": [
    {
     "name": "stderr",
     "output_type": "stream",
     "text": [
      "2024-04-24 17:21:31.034587: W tensorflow/core/framework/local_rendezvous.cc:404] Local rendezvous is aborting with status: OUT_OF_RANGE: End of sequence\n",
      "2024-04-24 17:21:31.737612: W tensorflow/core/framework/local_rendezvous.cc:404] Local rendezvous is aborting with status: OUT_OF_RANGE: End of sequence\n"
     ]
    },
    {
     "name": "stdout",
     "output_type": "stream",
     "text": [
      "Model: Single Convolution layer 4x4 kernal, Epoch: 1, Loss: 1.6199595928192139, Accuracy: 42.99399948120117, Test Loss: 1.4495594501495361, Test Accuracy: 48.66999816894531\n"
     ]
    },
    {
     "name": "stderr",
     "output_type": "stream",
     "text": [
      "2024-04-24 17:21:43.982471: W tensorflow/core/framework/local_rendezvous.cc:404] Local rendezvous is aborting with status: OUT_OF_RANGE: End of sequence\n",
      "2024-04-24 17:21:44.517646: W tensorflow/core/framework/local_rendezvous.cc:404] Local rendezvous is aborting with status: OUT_OF_RANGE: End of sequence\n"
     ]
    },
    {
     "name": "stdout",
     "output_type": "stream",
     "text": [
      "Model: Single Convolution layer 4x4 kernal, Epoch: 2, Loss: 1.3273426294326782, Accuracy: 53.7599983215332, Test Loss: 1.3544358015060425, Test Accuracy: 52.22999954223633\n"
     ]
    },
    {
     "name": "stderr",
     "output_type": "stream",
     "text": [
      "2024-04-24 17:21:57.069302: W tensorflow/core/framework/local_rendezvous.cc:404] Local rendezvous is aborting with status: OUT_OF_RANGE: End of sequence\n",
      "2024-04-24 17:21:57.593281: W tensorflow/core/framework/local_rendezvous.cc:404] Local rendezvous is aborting with status: OUT_OF_RANGE: End of sequence\n"
     ]
    },
    {
     "name": "stdout",
     "output_type": "stream",
     "text": [
      "Model: Single Convolution layer 4x4 kernal, Epoch: 3, Loss: 1.1654473543167114, Accuracy: 59.33399963378906, Test Loss: 1.3533028364181519, Test Accuracy: 53.78000259399414\n"
     ]
    },
    {
     "name": "stderr",
     "output_type": "stream",
     "text": [
      "2024-04-24 17:22:10.110391: W tensorflow/core/framework/local_rendezvous.cc:404] Local rendezvous is aborting with status: OUT_OF_RANGE: End of sequence\n",
      "2024-04-24 17:22:10.679361: W tensorflow/core/framework/local_rendezvous.cc:404] Local rendezvous is aborting with status: OUT_OF_RANGE: End of sequence\n"
     ]
    },
    {
     "name": "stdout",
     "output_type": "stream",
     "text": [
      "Model: Single Convolution layer 4x4 kernal, Epoch: 4, Loss: 1.001168966293335, Accuracy: 64.93000030517578, Test Loss: 1.4818010330200195, Test Accuracy: 52.29999923706055\n"
     ]
    },
    {
     "name": "stderr",
     "output_type": "stream",
     "text": [
      "2024-04-24 17:22:23.353897: W tensorflow/core/framework/local_rendezvous.cc:404] Local rendezvous is aborting with status: OUT_OF_RANGE: End of sequence\n"
     ]
    },
    {
     "name": "stdout",
     "output_type": "stream",
     "text": [
      "Model: Single Convolution layer 4x4 kernal, Epoch: 5, Loss: 0.833291232585907, Accuracy: 70.81999969482422, Test Loss: 1.5196995735168457, Test Accuracy: 53.3900032043457\n"
     ]
    },
    {
     "name": "stderr",
     "output_type": "stream",
     "text": [
      "2024-04-24 17:22:23.896562: W tensorflow/core/framework/local_rendezvous.cc:404] Local rendezvous is aborting with status: OUT_OF_RANGE: End of sequence\n"
     ]
    }
   ],
   "source": [
    "\n",
    "model_single_convolutional_layer_4_4 =  tf.keras.models.Sequential([\n",
    "            Conv2D(\n",
    "                filters=16,\n",
    "                kernel_size=(4,4),\n",
    "                strides=2\n",
    "            ),\n",
    "            Flatten(),\n",
    "            Dense(512, activation='relu'),\n",
    "            Dense(10, activation='softmax')\n",
    "          ])\n",
    "\n",
    "tester_convolutional_layer_4_4 = ModelTester('Single Convolution layer 4x4 kernal', model_single_convolutional_layer_4_4)\n",
    "tester_convolutional_layer_4_4.train(cifar_train_ds, cifar_test_ds, 5)\n"
   ]
  },
  {
   "cell_type": "code",
   "execution_count": 10,
   "metadata": {},
   "outputs": [
    {
     "name": "stderr",
     "output_type": "stream",
     "text": [
      "2024-04-24 17:24:47.872204: W tensorflow/core/framework/local_rendezvous.cc:404] Local rendezvous is aborting with status: OUT_OF_RANGE: End of sequence\n",
      "2024-04-24 17:24:48.666953: W tensorflow/core/framework/local_rendezvous.cc:404] Local rendezvous is aborting with status: OUT_OF_RANGE: End of sequence\n"
     ]
    },
    {
     "name": "stdout",
     "output_type": "stream",
     "text": [
      "Model: Single Convolution layer 4x4 kernal, Epoch: 1, Loss: 1.6983232498168945, Accuracy: 39.80999755859375, Test Loss: 1.5204046964645386, Test Accuracy: 45.849998474121094\n"
     ]
    },
    {
     "name": "stderr",
     "output_type": "stream",
     "text": [
      "2024-04-24 17:25:03.628237: W tensorflow/core/framework/local_rendezvous.cc:404] Local rendezvous is aborting with status: OUT_OF_RANGE: End of sequence\n",
      "2024-04-24 17:25:04.386835: W tensorflow/core/framework/local_rendezvous.cc:404] Local rendezvous is aborting with status: OUT_OF_RANGE: End of sequence\n"
     ]
    },
    {
     "name": "stdout",
     "output_type": "stream",
     "text": [
      "Model: Single Convolution layer 4x4 kernal, Epoch: 2, Loss: 1.482574224472046, Accuracy: 47.43199920654297, Test Loss: 1.4567539691925049, Test Accuracy: 48.209999084472656\n"
     ]
    },
    {
     "name": "stderr",
     "output_type": "stream",
     "text": [
      "2024-04-24 17:25:19.516685: W tensorflow/core/framework/local_rendezvous.cc:404] Local rendezvous is aborting with status: OUT_OF_RANGE: End of sequence\n",
      "2024-04-24 17:25:20.281192: W tensorflow/core/framework/local_rendezvous.cc:404] Local rendezvous is aborting with status: OUT_OF_RANGE: End of sequence\n"
     ]
    },
    {
     "name": "stdout",
     "output_type": "stream",
     "text": [
      "Model: Single Convolution layer 4x4 kernal, Epoch: 3, Loss: 1.4001697301864624, Accuracy: 50.63199996948242, Test Loss: 1.469299554824829, Test Accuracy: 47.56999969482422\n"
     ]
    },
    {
     "name": "stderr",
     "output_type": "stream",
     "text": [
      "2024-04-24 17:25:35.474481: W tensorflow/core/framework/local_rendezvous.cc:404] Local rendezvous is aborting with status: OUT_OF_RANGE: End of sequence\n",
      "2024-04-24 17:25:36.219230: W tensorflow/core/framework/local_rendezvous.cc:404] Local rendezvous is aborting with status: OUT_OF_RANGE: End of sequence\n"
     ]
    },
    {
     "name": "stdout",
     "output_type": "stream",
     "text": [
      "Model: Single Convolution layer 4x4 kernal, Epoch: 4, Loss: 1.3375849723815918, Accuracy: 53.06800079345703, Test Loss: 1.4419726133346558, Test Accuracy: 48.849998474121094\n"
     ]
    },
    {
     "name": "stderr",
     "output_type": "stream",
     "text": [
      "2024-04-24 17:25:51.111189: W tensorflow/core/framework/local_rendezvous.cc:404] Local rendezvous is aborting with status: OUT_OF_RANGE: End of sequence\n"
     ]
    },
    {
     "name": "stdout",
     "output_type": "stream",
     "text": [
      "Model: Single Convolution layer 4x4 kernal, Epoch: 5, Loss: 1.284733533859253, Accuracy: 54.73999786376953, Test Loss: 1.3889940977096558, Test Accuracy: 51.75\n"
     ]
    },
    {
     "name": "stderr",
     "output_type": "stream",
     "text": [
      "2024-04-24 17:25:51.857116: W tensorflow/core/framework/local_rendezvous.cc:404] Local rendezvous is aborting with status: OUT_OF_RANGE: End of sequence\n"
     ]
    }
   ],
   "source": [
    "\n",
    "model_single_convolutional_layer_8_8 =  tf.keras.models.Sequential([\n",
    "            Conv2D(\n",
    "                filters=64,\n",
    "                kernel_size=(8,8),\n",
    "                strides=3\n",
    "            ),\n",
    "            Flatten(),\n",
    "            Dense(512, activation='relu'),\n",
    "            Dense(10, activation='softmax')\n",
    "          ])\n",
    "\n",
    "tester_convolutional_layer_8_8 = ModelTester('Single Convolution layer 4x4 kernal', model_single_convolutional_layer_8_8)\n",
    "tester_convolutional_layer_8_8.train(cifar_train_ds, cifar_test_ds, 5)\n"
   ]
  },
  {
   "cell_type": "code",
   "execution_count": 11,
   "metadata": {},
   "outputs": [
    {
     "name": "stderr",
     "output_type": "stream",
     "text": [
      "2024-04-24 17:26:33.491787: W tensorflow/core/framework/local_rendezvous.cc:404] Local rendezvous is aborting with status: OUT_OF_RANGE: End of sequence\n",
      "2024-04-24 17:26:35.093064: W tensorflow/core/framework/local_rendezvous.cc:404] Local rendezvous is aborting with status: OUT_OF_RANGE: End of sequence\n"
     ]
    },
    {
     "name": "stdout",
     "output_type": "stream",
     "text": [
      "Model: Single Convolution layer 4x4 kernal, Epoch: 1, Loss: 1.6660102605819702, Accuracy: 41.6359977722168, Test Loss: 1.4648007154464722, Test Accuracy: 47.53000259399414\n"
     ]
    },
    {
     "name": "stderr",
     "output_type": "stream",
     "text": [
      "2024-04-24 17:27:03.095029: W tensorflow/core/framework/local_rendezvous.cc:404] Local rendezvous is aborting with status: OUT_OF_RANGE: End of sequence\n",
      "2024-04-24 17:27:04.452418: W tensorflow/core/framework/local_rendezvous.cc:404] Local rendezvous is aborting with status: OUT_OF_RANGE: End of sequence\n"
     ]
    },
    {
     "name": "stdout",
     "output_type": "stream",
     "text": [
      "Model: Single Convolution layer 4x4 kernal, Epoch: 2, Loss: 1.4119011163711548, Accuracy: 50.540000915527344, Test Loss: 1.434283971786499, Test Accuracy: 48.71999740600586\n"
     ]
    },
    {
     "name": "stderr",
     "output_type": "stream",
     "text": [
      "2024-04-24 17:27:34.780783: W tensorflow/core/framework/local_rendezvous.cc:404] Local rendezvous is aborting with status: OUT_OF_RANGE: End of sequence\n",
      "2024-04-24 17:27:36.180589: W tensorflow/core/framework/local_rendezvous.cc:404] Local rendezvous is aborting with status: OUT_OF_RANGE: End of sequence\n"
     ]
    },
    {
     "name": "stdout",
     "output_type": "stream",
     "text": [
      "Model: Single Convolution layer 4x4 kernal, Epoch: 3, Loss: 1.2876641750335693, Accuracy: 54.8380012512207, Test Loss: 1.4729408025741577, Test Accuracy: 50.05999755859375\n"
     ]
    },
    {
     "name": "stderr",
     "output_type": "stream",
     "text": [
      "2024-04-24 17:28:04.052350: W tensorflow/core/framework/local_rendezvous.cc:404] Local rendezvous is aborting with status: OUT_OF_RANGE: End of sequence\n",
      "2024-04-24 17:28:05.435720: W tensorflow/core/framework/local_rendezvous.cc:404] Local rendezvous is aborting with status: OUT_OF_RANGE: End of sequence\n"
     ]
    },
    {
     "name": "stdout",
     "output_type": "stream",
     "text": [
      "Model: Single Convolution layer 4x4 kernal, Epoch: 4, Loss: 1.1684685945510864, Accuracy: 58.76799774169922, Test Loss: 1.461327314376831, Test Accuracy: 51.13999938964844\n"
     ]
    },
    {
     "name": "stderr",
     "output_type": "stream",
     "text": [
      "2024-04-24 17:28:33.303102: W tensorflow/core/framework/local_rendezvous.cc:404] Local rendezvous is aborting with status: OUT_OF_RANGE: End of sequence\n"
     ]
    },
    {
     "name": "stdout",
     "output_type": "stream",
     "text": [
      "Model: Single Convolution layer 4x4 kernal, Epoch: 5, Loss: 1.056992769241333, Accuracy: 62.91400146484375, Test Loss: 1.555098056793213, Test Accuracy: 51.16999816894531\n"
     ]
    },
    {
     "name": "stderr",
     "output_type": "stream",
     "text": [
      "2024-04-24 17:28:34.700561: W tensorflow/core/framework/local_rendezvous.cc:404] Local rendezvous is aborting with status: OUT_OF_RANGE: End of sequence\n"
     ]
    }
   ],
   "source": [
    "\n",
    "model_single_convolutional_layer_8_8 =  tf.keras.models.Sequential([\n",
    "            Conv2D(\n",
    "                filters=64,\n",
    "                kernel_size=(4,4),\n",
    "                strides=2\n",
    "            ),\n",
    "            Flatten(),\n",
    "            Dense(512, activation='relu'),\n",
    "            Dense(10, activation='softmax')\n",
    "          ])\n",
    "\n",
    "tester_convolutional_layer_8_8 = ModelTester('Single Convolution layer 4x4 kernal', model_single_convolutional_layer_8_8)\n",
    "tester_convolutional_layer_8_8.train(cifar_train_ds, cifar_test_ds, 5)\n"
   ]
  },
  {
   "cell_type": "code",
   "execution_count": 12,
   "metadata": {},
   "outputs": [
    {
     "name": "stderr",
     "output_type": "stream",
     "text": [
      "2024-04-24 17:28:46.946266: W tensorflow/core/framework/local_rendezvous.cc:404] Local rendezvous is aborting with status: OUT_OF_RANGE: End of sequence\n",
      "2024-04-24 17:28:47.480441: W tensorflow/core/framework/local_rendezvous.cc:404] Local rendezvous is aborting with status: OUT_OF_RANGE: End of sequence\n"
     ]
    },
    {
     "name": "stdout",
     "output_type": "stream",
     "text": [
      "Model: Two Convolution layers, Epoch: 1, Loss: 1.5961720943450928, Accuracy: 43.63600158691406, Test Loss: 1.4010000228881836, Test Accuracy: 50.290000915527344\n"
     ]
    },
    {
     "name": "stderr",
     "output_type": "stream",
     "text": [
      "2024-04-24 17:28:54.421931: W tensorflow/core/framework/local_rendezvous.cc:404] Local rendezvous is aborting with status: OUT_OF_RANGE: End of sequence\n",
      "2024-04-24 17:28:54.854133: W tensorflow/core/framework/local_rendezvous.cc:404] Local rendezvous is aborting with status: OUT_OF_RANGE: End of sequence\n"
     ]
    },
    {
     "name": "stdout",
     "output_type": "stream",
     "text": [
      "Model: Two Convolution layers, Epoch: 2, Loss: 1.3323668241500854, Accuracy: 53.65599822998047, Test Loss: 1.3152687549591064, Test Accuracy: 54.220001220703125\n"
     ]
    },
    {
     "name": "stderr",
     "output_type": "stream",
     "text": [
      "2024-04-24 17:29:01.923209: W tensorflow/core/framework/local_rendezvous.cc:404] Local rendezvous is aborting with status: OUT_OF_RANGE: End of sequence\n",
      "2024-04-24 17:29:02.383469: W tensorflow/core/framework/local_rendezvous.cc:404] Local rendezvous is aborting with status: OUT_OF_RANGE: End of sequence\n"
     ]
    },
    {
     "name": "stdout",
     "output_type": "stream",
     "text": [
      "Model: Two Convolution layers, Epoch: 3, Loss: 1.2019356489181519, Accuracy: 58.39800262451172, Test Loss: 1.3274892568588257, Test Accuracy: 54.34000015258789\n"
     ]
    },
    {
     "name": "stderr",
     "output_type": "stream",
     "text": [
      "2024-04-24 17:29:09.349524: W tensorflow/core/framework/local_rendezvous.cc:404] Local rendezvous is aborting with status: OUT_OF_RANGE: End of sequence\n",
      "2024-04-24 17:29:09.806262: W tensorflow/core/framework/local_rendezvous.cc:404] Local rendezvous is aborting with status: OUT_OF_RANGE: End of sequence\n"
     ]
    },
    {
     "name": "stdout",
     "output_type": "stream",
     "text": [
      "Model: Two Convolution layers, Epoch: 4, Loss: 1.0842912197113037, Accuracy: 62.60600280761719, Test Loss: 1.3146229982376099, Test Accuracy: 56.08000183105469\n"
     ]
    },
    {
     "name": "stderr",
     "output_type": "stream",
     "text": [
      "2024-04-24 17:29:16.841589: W tensorflow/core/framework/local_rendezvous.cc:404] Local rendezvous is aborting with status: OUT_OF_RANGE: End of sequence\n"
     ]
    },
    {
     "name": "stdout",
     "output_type": "stream",
     "text": [
      "Model: Two Convolution layers, Epoch: 5, Loss: 0.9659060835838318, Accuracy: 66.60400390625, Test Loss: 1.3455389738082886, Test Accuracy: 55.659996032714844\n"
     ]
    },
    {
     "name": "stderr",
     "output_type": "stream",
     "text": [
      "2024-04-24 17:29:17.291295: W tensorflow/core/framework/local_rendezvous.cc:404] Local rendezvous is aborting with status: OUT_OF_RANGE: End of sequence\n"
     ]
    }
   ],
   "source": [
    "\n",
    "\n",
    "model_two_convolutional_layers =  tf.keras.models.Sequential([\n",
    "            Conv2D(\n",
    "                filters=16,\n",
    "                kernel_size=(4,4),\n",
    "                strides=2\n",
    "            ),\n",
    "            Conv2D(\n",
    "                filters=16,\n",
    "                kernel_size=(4,4),\n",
    "                strides=2\n",
    "            ),\n",
    "            Flatten(),\n",
    "            Dense(512, activation='relu'),\n",
    "            Dense(10, activation='softmax')\n",
    "          ])\n",
    "\n",
    "tester_two_convolutional_layers = ModelTester('Two Convolution layers', model_two_convolutional_layers)\n",
    "tester_two_convolutional_layers.train(cifar_train_ds, cifar_test_ds, 5)\n"
   ]
  },
  {
   "cell_type": "code",
   "execution_count": 13,
   "metadata": {},
   "outputs": [
    {
     "name": "stderr",
     "output_type": "stream",
     "text": [
      "2024-04-24 17:30:36.412929: W tensorflow/core/framework/local_rendezvous.cc:404] Local rendezvous is aborting with status: OUT_OF_RANGE: End of sequence\n",
      "2024-04-24 17:30:37.511369: W tensorflow/core/framework/local_rendezvous.cc:404] Local rendezvous is aborting with status: OUT_OF_RANGE: End of sequence\n"
     ]
    },
    {
     "name": "stdout",
     "output_type": "stream",
     "text": [
      "Model: Single Convolution layer multiple dense layers, Epoch: 1, Loss: 1.6189134120941162, Accuracy: 41.68600082397461, Test Loss: 1.4198156595230103, Test Accuracy: 49.56999969482422\n"
     ]
    },
    {
     "name": "stderr",
     "output_type": "stream",
     "text": [
      "2024-04-24 17:30:56.786955: W tensorflow/core/framework/local_rendezvous.cc:404] Local rendezvous is aborting with status: OUT_OF_RANGE: End of sequence\n",
      "2024-04-24 17:30:57.746823: W tensorflow/core/framework/local_rendezvous.cc:404] Local rendezvous is aborting with status: OUT_OF_RANGE: End of sequence\n"
     ]
    },
    {
     "name": "stdout",
     "output_type": "stream",
     "text": [
      "Model: Single Convolution layer multiple dense layers, Epoch: 2, Loss: 1.3170162439346313, Accuracy: 53.04999923706055, Test Loss: 1.4043800830841064, Test Accuracy: 51.130001068115234\n"
     ]
    },
    {
     "name": "stderr",
     "output_type": "stream",
     "text": [
      "2024-04-24 17:31:17.528632: W tensorflow/core/framework/local_rendezvous.cc:404] Local rendezvous is aborting with status: OUT_OF_RANGE: End of sequence\n",
      "2024-04-24 17:31:18.546621: W tensorflow/core/framework/local_rendezvous.cc:404] Local rendezvous is aborting with status: OUT_OF_RANGE: End of sequence\n"
     ]
    },
    {
     "name": "stdout",
     "output_type": "stream",
     "text": [
      "Model: Single Convolution layer multiple dense layers, Epoch: 3, Loss: 1.1497822999954224, Accuracy: 58.564002990722656, Test Loss: 1.3587290048599243, Test Accuracy: 53.09000015258789\n"
     ]
    },
    {
     "name": "stderr",
     "output_type": "stream",
     "text": [
      "2024-04-24 17:31:38.500805: W tensorflow/core/framework/local_rendezvous.cc:404] Local rendezvous is aborting with status: OUT_OF_RANGE: End of sequence\n",
      "2024-04-24 17:31:39.587721: W tensorflow/core/framework/local_rendezvous.cc:404] Local rendezvous is aborting with status: OUT_OF_RANGE: End of sequence\n"
     ]
    },
    {
     "name": "stdout",
     "output_type": "stream",
     "text": [
      "Model: Single Convolution layer multiple dense layers, Epoch: 4, Loss: 0.9829220175743103, Accuracy: 64.43000030517578, Test Loss: 1.399260401725769, Test Accuracy: 53.32999801635742\n"
     ]
    },
    {
     "name": "stderr",
     "output_type": "stream",
     "text": [
      "2024-04-24 17:32:00.855117: W tensorflow/core/framework/local_rendezvous.cc:404] Local rendezvous is aborting with status: OUT_OF_RANGE: End of sequence\n"
     ]
    },
    {
     "name": "stdout",
     "output_type": "stream",
     "text": [
      "Model: Single Convolution layer multiple dense layers, Epoch: 5, Loss: 0.8172318935394287, Accuracy: 70.47000122070312, Test Loss: 1.5065793991088867, Test Accuracy: 52.6400032043457\n"
     ]
    },
    {
     "name": "stderr",
     "output_type": "stream",
     "text": [
      "2024-04-24 17:32:01.727095: W tensorflow/core/framework/local_rendezvous.cc:404] Local rendezvous is aborting with status: OUT_OF_RANGE: End of sequence\n"
     ]
    }
   ],
   "source": [
    "\n",
    "model_single_convolutional_layer_multiple_dense_layers =  tf.keras.models.Sequential([\n",
    "            Conv2D(\n",
    "                filters=16,\n",
    "                kernel_size=(4,4),\n",
    "                strides=2\n",
    "            ),\n",
    "            Flatten(),\n",
    "            Dense(512, activation='relu'),\n",
    "            Dense(512, activation='relu'),\n",
    "            Dense(512, activation='relu'),\n",
    "            Dense(10, activation='softmax')\n",
    "          ])\n",
    "\n",
    "tester_convolutional_layer_multiple_dense = ModelTester('Single Convolution layer multiple dense layers', model_single_convolutional_layer_multiple_dense_layers)\n",
    "tester_convolutional_layer_multiple_dense.train(cifar_train_ds, cifar_test_ds, 5)"
   ]
  },
  {
   "cell_type": "code",
   "execution_count": 14,
   "metadata": {},
   "outputs": [
    {
     "name": "stderr",
     "output_type": "stream",
     "text": [
      "2024-04-24 17:32:16.398748: W tensorflow/core/framework/local_rendezvous.cc:404] Local rendezvous is aborting with status: OUT_OF_RANGE: End of sequence\n",
      "2024-04-24 17:32:16.810590: W tensorflow/core/framework/local_rendezvous.cc:404] Local rendezvous is aborting with status: OUT_OF_RANGE: End of sequence\n"
     ]
    },
    {
     "name": "stdout",
     "output_type": "stream",
     "text": [
      "Model: Single Convolution layer many small dense layers, Epoch: 1, Loss: 1.9244521856307983, Accuracy: 27.323999404907227, Test Loss: 1.7336710691452026, Test Accuracy: 36.2599983215332\n"
     ]
    },
    {
     "name": "stderr",
     "output_type": "stream",
     "text": [
      "2024-04-24 17:32:22.933028: W tensorflow/core/framework/local_rendezvous.cc:404] Local rendezvous is aborting with status: OUT_OF_RANGE: End of sequence\n",
      "2024-04-24 17:32:23.220984: W tensorflow/core/framework/local_rendezvous.cc:404] Local rendezvous is aborting with status: OUT_OF_RANGE: End of sequence\n"
     ]
    },
    {
     "name": "stdout",
     "output_type": "stream",
     "text": [
      "Model: Single Convolution layer many small dense layers, Epoch: 2, Loss: 1.6873931884765625, Accuracy: 38.672000885009766, Test Loss: 1.648781657218933, Test Accuracy: 40.459999084472656\n"
     ]
    },
    {
     "name": "stderr",
     "output_type": "stream",
     "text": [
      "2024-04-24 17:32:29.445547: W tensorflow/core/framework/local_rendezvous.cc:404] Local rendezvous is aborting with status: OUT_OF_RANGE: End of sequence\n",
      "2024-04-24 17:32:29.753891: W tensorflow/core/framework/local_rendezvous.cc:404] Local rendezvous is aborting with status: OUT_OF_RANGE: End of sequence\n"
     ]
    },
    {
     "name": "stdout",
     "output_type": "stream",
     "text": [
      "Model: Single Convolution layer many small dense layers, Epoch: 3, Loss: 1.5923702716827393, Accuracy: 42.61600112915039, Test Loss: 1.5746827125549316, Test Accuracy: 43.2599983215332\n"
     ]
    },
    {
     "name": "stderr",
     "output_type": "stream",
     "text": [
      "2024-04-24 17:32:35.913870: W tensorflow/core/framework/local_rendezvous.cc:404] Local rendezvous is aborting with status: OUT_OF_RANGE: End of sequence\n",
      "2024-04-24 17:32:36.224477: W tensorflow/core/framework/local_rendezvous.cc:404] Local rendezvous is aborting with status: OUT_OF_RANGE: End of sequence\n"
     ]
    },
    {
     "name": "stdout",
     "output_type": "stream",
     "text": [
      "Model: Single Convolution layer many small dense layers, Epoch: 4, Loss: 1.528941035270691, Accuracy: 45.104000091552734, Test Loss: 1.533224105834961, Test Accuracy: 45.82999801635742\n"
     ]
    },
    {
     "name": "stderr",
     "output_type": "stream",
     "text": [
      "2024-04-24 17:32:42.282549: W tensorflow/core/framework/local_rendezvous.cc:404] Local rendezvous is aborting with status: OUT_OF_RANGE: End of sequence\n",
      "2024-04-24 17:32:42.577558: W tensorflow/core/framework/local_rendezvous.cc:404] Local rendezvous is aborting with status: OUT_OF_RANGE: End of sequence\n"
     ]
    },
    {
     "name": "stdout",
     "output_type": "stream",
     "text": [
      "Model: Single Convolution layer many small dense layers, Epoch: 5, Loss: 1.484477162361145, Accuracy: 46.737998962402344, Test Loss: 1.5087502002716064, Test Accuracy: 46.68000030517578\n"
     ]
    },
    {
     "name": "stderr",
     "output_type": "stream",
     "text": [
      "2024-04-24 17:32:48.799063: W tensorflow/core/framework/local_rendezvous.cc:404] Local rendezvous is aborting with status: OUT_OF_RANGE: End of sequence\n",
      "2024-04-24 17:32:49.135039: W tensorflow/core/framework/local_rendezvous.cc:404] Local rendezvous is aborting with status: OUT_OF_RANGE: End of sequence\n"
     ]
    },
    {
     "name": "stdout",
     "output_type": "stream",
     "text": [
      "Model: Single Convolution layer many small dense layers, Epoch: 6, Loss: 1.4544278383255005, Accuracy: 47.86000061035156, Test Loss: 1.5048757791519165, Test Accuracy: 46.689998626708984\n"
     ]
    },
    {
     "name": "stderr",
     "output_type": "stream",
     "text": [
      "2024-04-24 17:32:55.268514: W tensorflow/core/framework/local_rendezvous.cc:404] Local rendezvous is aborting with status: OUT_OF_RANGE: End of sequence\n",
      "2024-04-24 17:32:55.574953: W tensorflow/core/framework/local_rendezvous.cc:404] Local rendezvous is aborting with status: OUT_OF_RANGE: End of sequence\n"
     ]
    },
    {
     "name": "stdout",
     "output_type": "stream",
     "text": [
      "Model: Single Convolution layer many small dense layers, Epoch: 7, Loss: 1.4238312244415283, Accuracy: 49.12200164794922, Test Loss: 1.5159780979156494, Test Accuracy: 46.72999954223633\n"
     ]
    },
    {
     "name": "stderr",
     "output_type": "stream",
     "text": [
      "2024-04-24 17:33:01.727685: W tensorflow/core/framework/local_rendezvous.cc:404] Local rendezvous is aborting with status: OUT_OF_RANGE: End of sequence\n",
      "2024-04-24 17:33:02.029865: W tensorflow/core/framework/local_rendezvous.cc:404] Local rendezvous is aborting with status: OUT_OF_RANGE: End of sequence\n"
     ]
    },
    {
     "name": "stdout",
     "output_type": "stream",
     "text": [
      "Model: Single Convolution layer many small dense layers, Epoch: 8, Loss: 1.3928457498550415, Accuracy: 50.44599914550781, Test Loss: 1.5229458808898926, Test Accuracy: 46.560001373291016\n"
     ]
    },
    {
     "name": "stderr",
     "output_type": "stream",
     "text": [
      "2024-04-24 17:33:07.965642: W tensorflow/core/framework/local_rendezvous.cc:404] Local rendezvous is aborting with status: OUT_OF_RANGE: End of sequence\n",
      "2024-04-24 17:33:08.237298: W tensorflow/core/framework/local_rendezvous.cc:404] Local rendezvous is aborting with status: OUT_OF_RANGE: End of sequence\n"
     ]
    },
    {
     "name": "stdout",
     "output_type": "stream",
     "text": [
      "Model: Single Convolution layer many small dense layers, Epoch: 9, Loss: 1.3734114170074463, Accuracy: 51.275997161865234, Test Loss: 1.5083426237106323, Test Accuracy: 47.09000015258789\n"
     ]
    },
    {
     "name": "stderr",
     "output_type": "stream",
     "text": [
      "2024-04-24 17:33:14.257088: W tensorflow/core/framework/local_rendezvous.cc:404] Local rendezvous is aborting with status: OUT_OF_RANGE: End of sequence\n"
     ]
    },
    {
     "name": "stdout",
     "output_type": "stream",
     "text": [
      "Model: Single Convolution layer many small dense layers, Epoch: 10, Loss: 1.3580316305160522, Accuracy: 51.69600296020508, Test Loss: 1.563693642616272, Test Accuracy: 44.53000259399414\n"
     ]
    },
    {
     "name": "stderr",
     "output_type": "stream",
     "text": [
      "2024-04-24 17:33:14.546693: W tensorflow/core/framework/local_rendezvous.cc:404] Local rendezvous is aborting with status: OUT_OF_RANGE: End of sequence\n"
     ]
    }
   ],
   "source": [
    "model_single_convolutional_layer_multiple_small_dense_layers =  tf.keras.models.Sequential([\n",
    "            Conv2D(\n",
    "                filters=16,\n",
    "                kernel_size=(4,4),\n",
    "                strides=2\n",
    "            ),\n",
    "            Flatten(),\n",
    "            Dense(32, activation='relu'),\n",
    "            Dense(32, activation='relu'),\n",
    "            Dense(32, activation='relu'),\n",
    "            Dense(32, activation='relu'),\n",
    "            Dense(32, activation='relu'),\n",
    "            Dense(32, activation='relu'),\n",
    "            Dense(32, activation='relu'),\n",
    "            Dense(32, activation='relu'),\n",
    "            Dense(32, activation='relu'),\n",
    "            Dense(32, activation='relu'),\n",
    "            Dense(32, activation='relu'),\n",
    "            Dense(10, activation='softmax')\n",
    "          ])\n",
    "\n",
    "tester_convolutional_layer_multiple_small_dense = ModelTester('Single Convolution layer many small dense layers', model_single_convolutional_layer_multiple_small_dense_layers)\n",
    "tester_convolutional_layer_multiple_small_dense.train(cifar_train_ds, cifar_test_ds, 10)\n"
   ]
  },
  {
   "cell_type": "code",
   "execution_count": 23,
   "metadata": {},
   "outputs": [
    {
     "name": "stderr",
     "output_type": "stream",
     "text": [
      "2024-04-24 15:07:57.420545: W tensorflow/core/framework/local_rendezvous.cc:404] Local rendezvous is aborting with status: OUT_OF_RANGE: End of sequence\n",
      "2024-04-24 15:07:58.447673: W tensorflow/core/framework/local_rendezvous.cc:404] Local rendezvous is aborting with status: OUT_OF_RANGE: End of sequence\n"
     ]
    },
    {
     "name": "stdout",
     "output_type": "stream",
     "text": [
      "Model: No convolutional layer, Epoch: 1, Loss: 1.96039879322052, Accuracy: 26.36600112915039, Test Loss: 1.8567473888397217, Test Accuracy: 30.860000610351562\n"
     ]
    },
    {
     "name": "stderr",
     "output_type": "stream",
     "text": [
      "2024-04-24 15:08:23.021842: W tensorflow/core/framework/local_rendezvous.cc:404] Local rendezvous is aborting with status: OUT_OF_RANGE: End of sequence\n",
      "2024-04-24 15:08:23.810870: W tensorflow/core/framework/local_rendezvous.cc:404] Local rendezvous is aborting with status: OUT_OF_RANGE: End of sequence\n"
     ]
    },
    {
     "name": "stdout",
     "output_type": "stream",
     "text": [
      "Model: No convolutional layer, Epoch: 2, Loss: 1.8256311416625977, Accuracy: 32.97599792480469, Test Loss: 1.7653164863586426, Test Accuracy: 35.91999816894531\n"
     ]
    },
    {
     "name": "stderr",
     "output_type": "stream",
     "text": [
      "2024-04-24 15:08:48.308693: W tensorflow/core/framework/local_rendezvous.cc:404] Local rendezvous is aborting with status: OUT_OF_RANGE: End of sequence\n",
      "2024-04-24 15:08:49.307763: W tensorflow/core/framework/local_rendezvous.cc:404] Local rendezvous is aborting with status: OUT_OF_RANGE: End of sequence\n"
     ]
    },
    {
     "name": "stdout",
     "output_type": "stream",
     "text": [
      "Model: No convolutional layer, Epoch: 3, Loss: 1.767852783203125, Accuracy: 35.347999572753906, Test Loss: 1.7565010786056519, Test Accuracy: 36.40999984741211\n"
     ]
    },
    {
     "name": "stderr",
     "output_type": "stream",
     "text": [
      "2024-04-24 15:09:12.949955: W tensorflow/core/framework/local_rendezvous.cc:404] Local rendezvous is aborting with status: OUT_OF_RANGE: End of sequence\n",
      "2024-04-24 15:09:13.755823: W tensorflow/core/framework/local_rendezvous.cc:404] Local rendezvous is aborting with status: OUT_OF_RANGE: End of sequence\n"
     ]
    },
    {
     "name": "stdout",
     "output_type": "stream",
     "text": [
      "Model: No convolutional layer, Epoch: 4, Loss: 1.725991129875183, Accuracy: 37.13199996948242, Test Loss: 1.7417385578155518, Test Accuracy: 35.52000045776367\n"
     ]
    },
    {
     "name": "stderr",
     "output_type": "stream",
     "text": [
      "2024-04-24 15:09:36.647196: W tensorflow/core/framework/local_rendezvous.cc:404] Local rendezvous is aborting with status: OUT_OF_RANGE: End of sequence\n",
      "2024-04-24 15:09:37.665098: W tensorflow/core/framework/local_rendezvous.cc:404] Local rendezvous is aborting with status: OUT_OF_RANGE: End of sequence\n"
     ]
    },
    {
     "name": "stdout",
     "output_type": "stream",
     "text": [
      "Model: No convolutional layer, Epoch: 5, Loss: 1.6916866302490234, Accuracy: 38.65599822998047, Test Loss: 1.6729459762573242, Test Accuracy: 38.75\n"
     ]
    },
    {
     "name": "stderr",
     "output_type": "stream",
     "text": [
      "2024-04-24 15:10:01.061540: W tensorflow/core/framework/local_rendezvous.cc:404] Local rendezvous is aborting with status: OUT_OF_RANGE: End of sequence\n",
      "2024-04-24 15:10:01.936359: W tensorflow/core/framework/local_rendezvous.cc:404] Local rendezvous is aborting with status: OUT_OF_RANGE: End of sequence\n"
     ]
    },
    {
     "name": "stdout",
     "output_type": "stream",
     "text": [
      "Model: No convolutional layer, Epoch: 6, Loss: 1.6579824686050415, Accuracy: 40.05400085449219, Test Loss: 1.6583331823349, Test Accuracy: 39.87999725341797\n"
     ]
    },
    {
     "name": "stderr",
     "output_type": "stream",
     "text": [
      "2024-04-24 15:10:24.690065: W tensorflow/core/framework/local_rendezvous.cc:404] Local rendezvous is aborting with status: OUT_OF_RANGE: End of sequence\n",
      "2024-04-24 15:10:25.858687: W tensorflow/core/framework/local_rendezvous.cc:404] Local rendezvous is aborting with status: OUT_OF_RANGE: End of sequence\n"
     ]
    },
    {
     "name": "stdout",
     "output_type": "stream",
     "text": [
      "Model: No convolutional layer, Epoch: 7, Loss: 1.631940484046936, Accuracy: 41.06399917602539, Test Loss: 1.617775559425354, Test Accuracy: 41.43000030517578\n"
     ]
    },
    {
     "name": "stderr",
     "output_type": "stream",
     "text": [
      "2024-04-24 15:10:49.740743: W tensorflow/core/framework/local_rendezvous.cc:404] Local rendezvous is aborting with status: OUT_OF_RANGE: End of sequence\n",
      "2024-04-24 15:10:50.576586: W tensorflow/core/framework/local_rendezvous.cc:404] Local rendezvous is aborting with status: OUT_OF_RANGE: End of sequence\n"
     ]
    },
    {
     "name": "stdout",
     "output_type": "stream",
     "text": [
      "Model: No convolutional layer, Epoch: 8, Loss: 1.608785629272461, Accuracy: 41.90399932861328, Test Loss: 1.6249516010284424, Test Accuracy: 41.36000061035156\n"
     ]
    },
    {
     "name": "stderr",
     "output_type": "stream",
     "text": [
      "2024-04-24 15:11:12.954933: W tensorflow/core/framework/local_rendezvous.cc:404] Local rendezvous is aborting with status: OUT_OF_RANGE: End of sequence\n",
      "2024-04-24 15:11:13.978923: W tensorflow/core/framework/local_rendezvous.cc:404] Local rendezvous is aborting with status: OUT_OF_RANGE: End of sequence\n"
     ]
    },
    {
     "name": "stdout",
     "output_type": "stream",
     "text": [
      "Model: No convolutional layer, Epoch: 9, Loss: 1.589856505393982, Accuracy: 42.672000885009766, Test Loss: 1.5954020023345947, Test Accuracy: 42.54999923706055\n"
     ]
    },
    {
     "name": "stderr",
     "output_type": "stream",
     "text": [
      "2024-04-24 15:11:38.314791: W tensorflow/core/framework/local_rendezvous.cc:404] Local rendezvous is aborting with status: OUT_OF_RANGE: End of sequence\n"
     ]
    },
    {
     "name": "stdout",
     "output_type": "stream",
     "text": [
      "Model: No convolutional layer, Epoch: 10, Loss: 1.5736645460128784, Accuracy: 43.461997985839844, Test Loss: 1.5947819948196411, Test Accuracy: 43.13999938964844\n"
     ]
    },
    {
     "name": "stderr",
     "output_type": "stream",
     "text": [
      "2024-04-24 15:11:39.373355: W tensorflow/core/framework/local_rendezvous.cc:404] Local rendezvous is aborting with status: OUT_OF_RANGE: End of sequence\n"
     ]
    }
   ],
   "source": [
    "model_no_convolutional_layer =  tf.keras.models.Sequential([\n",
    "            Flatten(),\n",
    "            Dense(512, activation='relu'),\n",
    "            Dense(512, activation='relu'),\n",
    "            Dense(512, activation='relu'),\n",
    "            Dense(512, activation='relu'),\n",
    "            Dense(512, activation='relu'),\n",
    "            Dense(512, activation='relu'),\n",
    "            Dense(10, activation='softmax')\n",
    "          ])\n",
    "\n",
    "tester_no_convolutional_layer_model = ModelTester('No convolutional layer', model_no_convolutional_layer)\n",
    "tester_no_convolutional_layer_model.train(cifar_train_ds, cifar_test_ds, 10)\n"
   ]
  },
  {
   "cell_type": "code",
   "execution_count": 24,
   "metadata": {},
   "outputs": [
    {
     "name": "stderr",
     "output_type": "stream",
     "text": [
      "2024-04-24 15:18:12.499756: W tensorflow/core/framework/local_rendezvous.cc:404] Local rendezvous is aborting with status: OUT_OF_RANGE: End of sequence\n",
      "2024-04-24 15:18:13.394909: W tensorflow/core/framework/local_rendezvous.cc:404] Local rendezvous is aborting with status: OUT_OF_RANGE: End of sequence\n"
     ]
    },
    {
     "name": "stdout",
     "output_type": "stream",
     "text": [
      "Model: wow, many layers, Epoch: 1, Loss: 1.0252810716629028, Accuracy: 63.81599807739258, Test Loss: 1.7722394466400146, Test Accuracy: 44.96000289916992\n"
     ]
    },
    {
     "name": "stderr",
     "output_type": "stream",
     "text": [
      "2024-04-24 15:18:26.740072: W tensorflow/core/framework/local_rendezvous.cc:404] Local rendezvous is aborting with status: OUT_OF_RANGE: End of sequence\n",
      "2024-04-24 15:18:27.477903: W tensorflow/core/framework/local_rendezvous.cc:404] Local rendezvous is aborting with status: OUT_OF_RANGE: End of sequence\n"
     ]
    },
    {
     "name": "stdout",
     "output_type": "stream",
     "text": [
      "Model: wow, many layers, Epoch: 2, Loss: 1.0155869722366333, Accuracy: 64.07600402832031, Test Loss: 1.7980457544326782, Test Accuracy: 44.90999984741211\n"
     ]
    },
    {
     "name": "stderr",
     "output_type": "stream",
     "text": [
      "2024-04-24 15:18:40.944914: W tensorflow/core/framework/local_rendezvous.cc:404] Local rendezvous is aborting with status: OUT_OF_RANGE: End of sequence\n",
      "2024-04-24 15:18:41.743893: W tensorflow/core/framework/local_rendezvous.cc:404] Local rendezvous is aborting with status: OUT_OF_RANGE: End of sequence\n"
     ]
    },
    {
     "name": "stdout",
     "output_type": "stream",
     "text": [
      "Model: wow, many layers, Epoch: 3, Loss: 1.0032947063446045, Accuracy: 64.61199951171875, Test Loss: 1.7719159126281738, Test Accuracy: 45.45000076293945\n"
     ]
    },
    {
     "name": "stderr",
     "output_type": "stream",
     "text": [
      "2024-04-24 15:18:54.895682: W tensorflow/core/framework/local_rendezvous.cc:404] Local rendezvous is aborting with status: OUT_OF_RANGE: End of sequence\n",
      "2024-04-24 15:18:55.647750: W tensorflow/core/framework/local_rendezvous.cc:404] Local rendezvous is aborting with status: OUT_OF_RANGE: End of sequence\n"
     ]
    },
    {
     "name": "stdout",
     "output_type": "stream",
     "text": [
      "Model: wow, many layers, Epoch: 4, Loss: 1.0014257431030273, Accuracy: 64.6300048828125, Test Loss: 1.7599101066589355, Test Accuracy: 45.13999938964844\n"
     ]
    },
    {
     "name": "stderr",
     "output_type": "stream",
     "text": [
      "2024-04-24 15:19:08.616418: W tensorflow/core/framework/local_rendezvous.cc:404] Local rendezvous is aborting with status: OUT_OF_RANGE: End of sequence\n",
      "2024-04-24 15:19:09.362091: W tensorflow/core/framework/local_rendezvous.cc:404] Local rendezvous is aborting with status: OUT_OF_RANGE: End of sequence\n"
     ]
    },
    {
     "name": "stdout",
     "output_type": "stream",
     "text": [
      "Model: wow, many layers, Epoch: 5, Loss: 0.9836835265159607, Accuracy: 65.4219970703125, Test Loss: 1.801790714263916, Test Accuracy: 44.310001373291016\n"
     ]
    },
    {
     "name": "stderr",
     "output_type": "stream",
     "text": [
      "2024-04-24 15:19:21.681777: W tensorflow/core/framework/local_rendezvous.cc:404] Local rendezvous is aborting with status: OUT_OF_RANGE: End of sequence\n",
      "2024-04-24 15:19:22.366878: W tensorflow/core/framework/local_rendezvous.cc:404] Local rendezvous is aborting with status: OUT_OF_RANGE: End of sequence\n"
     ]
    },
    {
     "name": "stdout",
     "output_type": "stream",
     "text": [
      "Model: wow, many layers, Epoch: 6, Loss: 0.9787344336509705, Accuracy: 65.58000183105469, Test Loss: 1.8453381061553955, Test Accuracy: 45.459999084472656\n"
     ]
    },
    {
     "name": "stderr",
     "output_type": "stream",
     "text": [
      "2024-04-24 15:19:34.928436: W tensorflow/core/framework/local_rendezvous.cc:404] Local rendezvous is aborting with status: OUT_OF_RANGE: End of sequence\n",
      "2024-04-24 15:19:35.672721: W tensorflow/core/framework/local_rendezvous.cc:404] Local rendezvous is aborting with status: OUT_OF_RANGE: End of sequence\n"
     ]
    },
    {
     "name": "stdout",
     "output_type": "stream",
     "text": [
      "Model: wow, many layers, Epoch: 7, Loss: 0.9712920784950256, Accuracy: 66.11199951171875, Test Loss: 1.809248924255371, Test Accuracy: 45.25\n"
     ]
    },
    {
     "name": "stderr",
     "output_type": "stream",
     "text": [
      "2024-04-24 15:19:48.461080: W tensorflow/core/framework/local_rendezvous.cc:404] Local rendezvous is aborting with status: OUT_OF_RANGE: End of sequence\n",
      "2024-04-24 15:19:49.201172: W tensorflow/core/framework/local_rendezvous.cc:404] Local rendezvous is aborting with status: OUT_OF_RANGE: End of sequence\n"
     ]
    },
    {
     "name": "stdout",
     "output_type": "stream",
     "text": [
      "Model: wow, many layers, Epoch: 8, Loss: 0.9541002511978149, Accuracy: 66.42400360107422, Test Loss: 1.826551914215088, Test Accuracy: 44.87000274658203\n"
     ]
    },
    {
     "name": "stderr",
     "output_type": "stream",
     "text": [
      "2024-04-24 15:20:02.265316: W tensorflow/core/framework/local_rendezvous.cc:404] Local rendezvous is aborting with status: OUT_OF_RANGE: End of sequence\n",
      "2024-04-24 15:20:03.055923: W tensorflow/core/framework/local_rendezvous.cc:404] Local rendezvous is aborting with status: OUT_OF_RANGE: End of sequence\n"
     ]
    },
    {
     "name": "stdout",
     "output_type": "stream",
     "text": [
      "Model: wow, many layers, Epoch: 9, Loss: 0.949845552444458, Accuracy: 66.75, Test Loss: 1.8320086002349854, Test Accuracy: 44.90999984741211\n"
     ]
    },
    {
     "name": "stderr",
     "output_type": "stream",
     "text": [
      "2024-04-24 15:20:16.024329: W tensorflow/core/framework/local_rendezvous.cc:404] Local rendezvous is aborting with status: OUT_OF_RANGE: End of sequence\n",
      "2024-04-24 15:20:16.763202: W tensorflow/core/framework/local_rendezvous.cc:404] Local rendezvous is aborting with status: OUT_OF_RANGE: End of sequence\n"
     ]
    },
    {
     "name": "stdout",
     "output_type": "stream",
     "text": [
      "Model: wow, many layers, Epoch: 10, Loss: 0.9435018301010132, Accuracy: 66.93800354003906, Test Loss: 1.834135890007019, Test Accuracy: 44.970001220703125\n"
     ]
    },
    {
     "name": "stderr",
     "output_type": "stream",
     "text": [
      "2024-04-24 15:20:29.197129: W tensorflow/core/framework/local_rendezvous.cc:404] Local rendezvous is aborting with status: OUT_OF_RANGE: End of sequence\n",
      "2024-04-24 15:20:29.942065: W tensorflow/core/framework/local_rendezvous.cc:404] Local rendezvous is aborting with status: OUT_OF_RANGE: End of sequence\n"
     ]
    },
    {
     "name": "stdout",
     "output_type": "stream",
     "text": [
      "Model: wow, many layers, Epoch: 11, Loss: 0.9374005794525146, Accuracy: 67.2439956665039, Test Loss: 1.8827520608901978, Test Accuracy: 44.63999938964844\n"
     ]
    },
    {
     "name": "stderr",
     "output_type": "stream",
     "text": [
      "2024-04-24 15:20:42.912713: W tensorflow/core/framework/local_rendezvous.cc:404] Local rendezvous is aborting with status: OUT_OF_RANGE: End of sequence\n",
      "2024-04-24 15:20:43.647690: W tensorflow/core/framework/local_rendezvous.cc:404] Local rendezvous is aborting with status: OUT_OF_RANGE: End of sequence\n"
     ]
    },
    {
     "name": "stdout",
     "output_type": "stream",
     "text": [
      "Model: wow, many layers, Epoch: 12, Loss: 0.9253891110420227, Accuracy: 67.79800415039062, Test Loss: 1.8529093265533447, Test Accuracy: 44.790000915527344\n"
     ]
    },
    {
     "name": "stderr",
     "output_type": "stream",
     "text": [
      "2024-04-24 15:20:56.391715: W tensorflow/core/framework/local_rendezvous.cc:404] Local rendezvous is aborting with status: OUT_OF_RANGE: End of sequence\n",
      "2024-04-24 15:20:57.102090: W tensorflow/core/framework/local_rendezvous.cc:404] Local rendezvous is aborting with status: OUT_OF_RANGE: End of sequence\n"
     ]
    },
    {
     "name": "stdout",
     "output_type": "stream",
     "text": [
      "Model: wow, many layers, Epoch: 13, Loss: 0.9266480207443237, Accuracy: 67.5320053100586, Test Loss: 1.8644908666610718, Test Accuracy: 44.72999954223633\n"
     ]
    },
    {
     "name": "stderr",
     "output_type": "stream",
     "text": [
      "2024-04-24 15:21:09.932307: W tensorflow/core/framework/local_rendezvous.cc:404] Local rendezvous is aborting with status: OUT_OF_RANGE: End of sequence\n",
      "2024-04-24 15:21:10.675076: W tensorflow/core/framework/local_rendezvous.cc:404] Local rendezvous is aborting with status: OUT_OF_RANGE: End of sequence\n"
     ]
    },
    {
     "name": "stdout",
     "output_type": "stream",
     "text": [
      "Model: wow, many layers, Epoch: 14, Loss: 0.9144794940948486, Accuracy: 68.04000091552734, Test Loss: 1.9142746925354004, Test Accuracy: 44.4900016784668\n"
     ]
    },
    {
     "name": "stderr",
     "output_type": "stream",
     "text": [
      "2024-04-24 15:21:23.434530: W tensorflow/core/framework/local_rendezvous.cc:404] Local rendezvous is aborting with status: OUT_OF_RANGE: End of sequence\n",
      "2024-04-24 15:21:24.184866: W tensorflow/core/framework/local_rendezvous.cc:404] Local rendezvous is aborting with status: OUT_OF_RANGE: End of sequence\n"
     ]
    },
    {
     "name": "stdout",
     "output_type": "stream",
     "text": [
      "Model: wow, many layers, Epoch: 15, Loss: 0.909940242767334, Accuracy: 68.05799865722656, Test Loss: 1.9037261009216309, Test Accuracy: 44.400001525878906\n"
     ]
    },
    {
     "name": "stderr",
     "output_type": "stream",
     "text": [
      "2024-04-24 15:21:37.082900: W tensorflow/core/framework/local_rendezvous.cc:404] Local rendezvous is aborting with status: OUT_OF_RANGE: End of sequence\n",
      "2024-04-24 15:21:37.775520: W tensorflow/core/framework/local_rendezvous.cc:404] Local rendezvous is aborting with status: OUT_OF_RANGE: End of sequence\n"
     ]
    },
    {
     "name": "stdout",
     "output_type": "stream",
     "text": [
      "Model: wow, many layers, Epoch: 16, Loss: 0.9012490510940552, Accuracy: 68.47000122070312, Test Loss: 1.9194391965866089, Test Accuracy: 44.45000076293945\n"
     ]
    },
    {
     "name": "stderr",
     "output_type": "stream",
     "text": [
      "2024-04-24 15:21:50.276937: W tensorflow/core/framework/local_rendezvous.cc:404] Local rendezvous is aborting with status: OUT_OF_RANGE: End of sequence\n",
      "2024-04-24 15:21:51.012026: W tensorflow/core/framework/local_rendezvous.cc:404] Local rendezvous is aborting with status: OUT_OF_RANGE: End of sequence\n"
     ]
    },
    {
     "name": "stdout",
     "output_type": "stream",
     "text": [
      "Model: wow, many layers, Epoch: 17, Loss: 0.8999032974243164, Accuracy: 68.75, Test Loss: 1.8917135000228882, Test Accuracy: 44.290000915527344\n"
     ]
    },
    {
     "name": "stderr",
     "output_type": "stream",
     "text": [
      "2024-04-24 15:22:03.450255: W tensorflow/core/framework/local_rendezvous.cc:404] Local rendezvous is aborting with status: OUT_OF_RANGE: End of sequence\n",
      "2024-04-24 15:22:04.165378: W tensorflow/core/framework/local_rendezvous.cc:404] Local rendezvous is aborting with status: OUT_OF_RANGE: End of sequence\n"
     ]
    },
    {
     "name": "stdout",
     "output_type": "stream",
     "text": [
      "Model: wow, many layers, Epoch: 18, Loss: 0.8911052942276001, Accuracy: 68.86000061035156, Test Loss: 1.9552133083343506, Test Accuracy: 44.61000061035156\n"
     ]
    },
    {
     "name": "stderr",
     "output_type": "stream",
     "text": [
      "2024-04-24 15:22:17.092631: W tensorflow/core/framework/local_rendezvous.cc:404] Local rendezvous is aborting with status: OUT_OF_RANGE: End of sequence\n",
      "2024-04-24 15:22:17.752950: W tensorflow/core/framework/local_rendezvous.cc:404] Local rendezvous is aborting with status: OUT_OF_RANGE: End of sequence\n"
     ]
    },
    {
     "name": "stdout",
     "output_type": "stream",
     "text": [
      "Model: wow, many layers, Epoch: 19, Loss: 0.8911221623420715, Accuracy: 69.01399993896484, Test Loss: 1.9464199542999268, Test Accuracy: 45.09000015258789\n"
     ]
    },
    {
     "name": "stderr",
     "output_type": "stream",
     "text": [
      "2024-04-24 15:22:30.227993: W tensorflow/core/framework/local_rendezvous.cc:404] Local rendezvous is aborting with status: OUT_OF_RANGE: End of sequence\n"
     ]
    },
    {
     "name": "stdout",
     "output_type": "stream",
     "text": [
      "Model: wow, many layers, Epoch: 20, Loss: 0.880838930606842, Accuracy: 69.10200500488281, Test Loss: 1.9638326168060303, Test Accuracy: 43.88999938964844\n"
     ]
    },
    {
     "name": "stderr",
     "output_type": "stream",
     "text": [
      "2024-04-24 15:22:30.939129: W tensorflow/core/framework/local_rendezvous.cc:404] Local rendezvous is aborting with status: OUT_OF_RANGE: End of sequence\n"
     ]
    }
   ],
   "source": [
    "model_single_convolutional_layer_many_many_small_dense_layers =  tf.keras.models.Sequential([\n",
    "            Conv2D(32,3),\n",
    "            Flatten(),\n",
    "            Dense(32, activation='relu'),\n",
    "            Dense(32, activation='relu'),\n",
    "            Dense(32, activation='relu'),\n",
    "            Dense(32, activation='relu'),\n",
    "            Dense(32, activation='relu'),\n",
    "            Dense(32, activation='relu'),\n",
    "            Dense(32, activation='relu'),\n",
    "            Dense(32, activation='relu'),\n",
    "            Dense(32, activation='relu'),\n",
    "            Dense(32, activation='relu'),\n",
    "            Dense(32, activation='relu'),\n",
    "            Dense(32, activation='relu'),\n",
    "            Dense(32, activation='relu'),\n",
    "            Dense(32, activation='relu'),\n",
    "            Dense(32, activation='relu'),\n",
    "            Dense(32, activation='relu'),\n",
    "            Dense(32, activation='relu'),\n",
    "            Dense(32, activation='relu'),\n",
    "            Dense(32, activation='relu'),\n",
    "            Dense(32, activation='relu'),\n",
    "            Dense(32, activation='relu'),\n",
    "            Dense(32, activation='relu'),\n",
    "            Dense(10, activation='softmax')\n",
    "          ])\n",
    "\n",
    "tester_convolutional_layer_model_single_convolutional_layer_many_many_small_dense_layers = ModelTester('wow, many layers', model_single_convolutional_layer_multiple_small_dense_layers)\n",
    "tester_convolutional_layer_model_single_convolutional_layer_many_many_small_dense_layers.train(cifar_train_ds, cifar_test_ds, 20)\n"
   ]
  },
  {
   "cell_type": "code",
   "execution_count": 21,
   "metadata": {},
   "outputs": [
    {
     "name": "stdout",
     "output_type": "stream",
     "text": [
      "DONE!\n"
     ]
    }
   ],
   "source": [
    "print(\"DONE!\")"
   ]
  },
  {
   "cell_type": "code",
   "execution_count": null,
   "metadata": {},
   "outputs": [],
   "source": []
  }
 ],
 "metadata": {
  "colab": {
   "provenance": [],
   "toc_visible": true
  },
  "kernelspec": {
   "display_name": "Python 3 (ipykernel)",
   "language": "python",
   "name": "python3"
  },
  "language_info": {
   "codemirror_mode": {
    "name": "ipython",
    "version": 3
   },
   "file_extension": ".py",
   "mimetype": "text/x-python",
   "name": "python",
   "nbconvert_exporter": "python",
   "pygments_lexer": "ipython3",
   "version": "3.12.3"
  }
 },
 "nbformat": 4,
 "nbformat_minor": 4
}
